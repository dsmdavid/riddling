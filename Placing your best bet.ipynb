{
 "cells": [
  {
   "cell_type": "markdown",
   "metadata": {
    "collapsed": true
   },
   "source": [
    "#Answering...The Riddler\n",
    "http://fivethirtyeight.com/features/can-you-survive-this-deadly-board-game/\n",
    "\n",
    "While traveling in the Kingdom of Arbitraria, you are accused of a heinous crime. \n",
    "Arbitraria decides who’s guilty or innocent not through a court system, but a board game. \n",
    "It’s played on a simple board: a track with sequential spaces numbered from 0 to 1,000. \n",
    "The zero space is marked “start,” and your token is placed on it. \n",
    "You are handed a fair six-sided die and three coins. \n",
    "You are allowed to place the coins on three different (nonzero) spaces. \n",
    "Once placed, the coins may not be moved.\n",
    "\n",
    "After placing the three coins, you roll the die and move your token forward the appropriate number of spaces. \n",
    "If, after moving the token, it lands on a space with a coin on it, you are freed. \n",
    "If not, you roll again and continue moving forward. \n",
    "If your token passes all three coins without landing on one, you are executed. \n",
    "On which three spaces should you place the coins to maximize your chances of survival?"
   ]
  },
  {
   "cell_type": "markdown",
   "metadata": {},
   "source": [
    "#Approach:\n",
    "##1. Create a board\n",
    "   Could be the given size (1000, or other). In order to make a difference, it should be a function of the sides of the die, otherwise the last spaces all are going to have a similarly low probability.\n",
    "##2. Create a die\n",
    "   Either a 6-sides die or some of the more common dice in RPG, or a single 2-sided die (aka \"coin\").\n",
    "    Could be a fair game, could favor some side.\n",
    "##3. Calculate the different probabilities of landing in each space of the board with the given die\n",
    "   Start at zero. Calculate the chances of falling into any of the next spaces (limited by the number of sides of the die). Assume there are no \"snakes & ladders\"."
   ]
  },
  {
   "cell_type": "code",
   "execution_count": 1,
   "metadata": {
    "collapsed": true
   },
   "outputs": [],
   "source": [
    "#Definitions and imports"
   ]
  },
  {
   "cell_type": "code",
   "execution_count": 2,
   "metadata": {
    "collapsed": false
   },
   "outputs": [
    {
     "name": "stderr",
     "output_type": "stream",
     "text": [
      "D:\\Anaconda3\\lib\\site-packages\\pandas\\computation\\__init__.py:19: UserWarning: The installed version of numexpr 2.4.4 is not supported in pandas and will be not be used\n",
      "\n",
      "  UserWarning)\n",
      ":0: FutureWarning: IPython widgets are experimental and may change in the future.\n"
     ]
    }
   ],
   "source": [
    "import matplotlib.pyplot as plt\n",
    "import numpy as np\n",
    "import seaborn as sns\n",
    "import pandas as pd\n",
    "%matplotlib inline"
   ]
  },
  {
   "cell_type": "code",
   "execution_count": 3,
   "metadata": {
    "collapsed": false
   },
   "outputs": [],
   "source": [
    "class Die():\n",
    "    '''Creates an object with X sides. Could be used to implement \"not fair\" dice or other'''\n",
    "    def __init__(self,integer):\n",
    "        self.sides = integer\n",
    "        \n",
    "def init_board(size):\n",
    "    '''returns an unused linear board of the specified size,\n",
    "    with the probabilities of landing at the different spaces at zero'''\n",
    "    board_prob = np.zeros((size,))\n",
    "    #Start space : 'zero'\n",
    "    board_prob[0] = 1\n",
    "    return board_prob\n",
    "    \n",
    "def create_die(sides):\n",
    "    return Die(sides)\n",
    "\n",
    "def update_board_prob(board_prob,die):\n",
    "    '''Receives a board and a die.\n",
    "    Starts in zero: calculate the probabilites of landing in all the possible spaces that you can reach from zero.\n",
    "    Move one square forward (the game does not seem to allow going backwards). Multiply the chances of having landed\n",
    "    on the current space times the probabilitis of landing in all the possible spaces that you can reach.\n",
    "    Iterate until you get to the last space'''\n",
    "    \n",
    "    for current_loc in range(len(board_prob)+1):\n",
    "        #update probabilities:\n",
    "        #sides of the die:\n",
    "        for n in range(1,die.sides+1):\n",
    "            if (current_loc+n) < len(board_prob):\n",
    "                board_prob[current_loc+n] += (1/die.sides)*board_prob[current_loc] \n",
    "    return board_prob\n",
    "\n",
    "\n",
    "def run_game(board_size, die_sides):\n",
    "    \n",
    "    board = init_board(board_size)\n",
    "    die = create_die(die_sides)\n",
    "    board = update_board_prob(board, die)\n",
    "    print('Board of {} spaces. Die of {} sides. Maximum probability for one space is {}'.format(len(board), die.sides,board[1:].max()))\n",
    "    return board"
   ]
  },
  {
   "cell_type": "code",
   "execution_count": 4,
   "metadata": {
    "collapsed": true
   },
   "outputs": [],
   "source": [
    "#Run it!"
   ]
  },
  {
   "cell_type": "code",
   "execution_count": 5,
   "metadata": {
    "collapsed": false
   },
   "outputs": [
    {
     "name": "stdout",
     "output_type": "stream",
     "text": [
      "Board of 1000 spaces. Die of 2 sides. Maximum probability for one space is 0.75\n",
      "Board of 1000 spaces. Die of 3 sides. Maximum probability for one space is 0.5925925925925926\n",
      "Board of 1000 spaces. Die of 4 sides. Maximum probability for one space is 0.48828125\n",
      "Board of 1000 spaces. Die of 6 sides. Maximum probability for one space is 0.3602323388203017\n",
      "Board of 1000 spaces. Die of 8 sides. Maximum probability for one space is 0.2850871682167053\n",
      "Board of 1000 spaces. Die of 10 sides. Maximum probability for one space is 0.23579476910000013\n",
      "Board of 1000 spaces. Die of 12 sides. Maximum probability for one space is 0.2010027146326676\n",
      "Board of 1000 spaces. Die of 16 sides. Maximum probability for one space is 0.15517226455097644\n",
      "Board of 1000 spaces. Die of 20 sides. Maximum probability for one space is 0.1263475097687819\n"
     ]
    }
   ],
   "source": [
    "board_size = 1000\n",
    "common_dice = [2,3,4,6,8,10,12,16,20]\n",
    "list_df = []\n",
    "for val in common_dice:\n",
    "    board = run_game(board_size, val)\n",
    "    temp_df = pd.DataFrame(data = board)\n",
    "    temp_df['sides'] = val\n",
    "    temp_df.columns = ['prob','sides']\n",
    "    list_df.append(temp_df)\n",
    "df = pd.concat(list_df)\n",
    "df['space'] = df.index.copy()\n",
    "df = df[df['space'] !=0]\n",
    "    "
   ]
  },
  {
   "cell_type": "code",
   "execution_count": 6,
   "metadata": {
    "collapsed": false
   },
   "outputs": [
    {
     "data": {
      "image/png": "[encoded data removed]",
      "text/plain": [
       "<matplotlib.figure.Figure at 0x906db10>"
      ]
     },
     "metadata": {},
     "output_type": "display_data"
    }
   ],
   "source": [
    "#plot the different dice results\n",
    "g = sns.lmplot('space','prob', data = df[df['space'] < 100], hue='sides', fit_reg=False)\n",
    "six_sides = df[df['sides'] == 6]\n",
    "six_sides = six_sides[six_sides['space']<100]\n",
    "\n",
    "#highlight the question (die = 6 sides)\n",
    "g.ax.plot(six_sides['space'], six_sides['prob'], color='black',linewidth = 3)\n",
    "\n",
    "plt.show()"
   ]
  },
  {
   "cell_type": "markdown",
   "metadata": {},
   "source": [
    "## The best three positions are:"
   ]
  },
  {
   "cell_type": "code",
   "execution_count": 7,
   "metadata": {
    "collapsed": false
   },
   "outputs": [
    {
     "data": {
      "text/html": [
       "<div>\n",
       "<table border=\"1\" class=\"dataframe\">\n",
       "  <thead>\n",
       "    <tr style=\"text-align: right;\">\n",
       "      <th></th>\n",
       "      <th>prob</th>\n",
       "      <th>sides</th>\n",
       "      <th>space</th>\n",
       "    </tr>\n",
       "  </thead>\n",
       "  <tbody>\n",
       "    <tr>\n",
       "      <th>6</th>\n",
       "      <td>0.360232</td>\n",
       "      <td>6</td>\n",
       "      <td>6</td>\n",
       "    </tr>\n",
       "    <tr>\n",
       "      <th>5</th>\n",
       "      <td>0.308771</td>\n",
       "      <td>6</td>\n",
       "      <td>5</td>\n",
       "    </tr>\n",
       "    <tr>\n",
       "      <th>11</th>\n",
       "      <td>0.293393</td>\n",
       "      <td>6</td>\n",
       "      <td>11</td>\n",
       "    </tr>\n",
       "  </tbody>\n",
       "</table>\n",
       "</div>"
      ],
      "text/plain": [
       "        prob  sides  space\n",
       "6   0.360232      6      6\n",
       "5   0.308771      6      5\n",
       "11  0.293393      6     11"
      ]
     },
     "execution_count": 7,
     "metadata": {},
     "output_type": "execute_result"
    }
   ],
   "source": [
    "six_sides.sort_values(by='prob', ascending=False, inplace=True)\n",
    "six_sides.head(3)"
   ]
  },
  {
   "cell_type": "code",
   "execution_count": 8,
   "metadata": {
    "collapsed": false
   },
   "outputs": [
    {
     "data": {
      "text/html": [
       "<div>\n",
       "<table border=\"1\" class=\"dataframe\">\n",
       "  <thead>\n",
       "    <tr style=\"text-align: right;\">\n",
       "      <th></th>\n",
       "      <th>prob</th>\n",
       "      <th>sides</th>\n",
       "      <th>space</th>\n",
       "    </tr>\n",
       "  </thead>\n",
       "  <tbody>\n",
       "    <tr>\n",
       "      <th>6</th>\n",
       "      <td>0.360232</td>\n",
       "      <td>6</td>\n",
       "      <td>6</td>\n",
       "    </tr>\n",
       "    <tr>\n",
       "      <th>5</th>\n",
       "      <td>0.308771</td>\n",
       "      <td>6</td>\n",
       "      <td>5</td>\n",
       "    </tr>\n",
       "    <tr>\n",
       "      <th>11</th>\n",
       "      <td>0.293393</td>\n",
       "      <td>6</td>\n",
       "      <td>11</td>\n",
       "    </tr>\n",
       "    <tr>\n",
       "      <th>12</th>\n",
       "      <td>0.290830</td>\n",
       "      <td>6</td>\n",
       "      <td>12</td>\n",
       "    </tr>\n",
       "    <tr>\n",
       "      <th>10</th>\n",
       "      <td>0.289288</td>\n",
       "      <td>6</td>\n",
       "      <td>10</td>\n",
       "    </tr>\n",
       "    <tr>\n",
       "      <th>16</th>\n",
       "      <td>0.287071</td>\n",
       "      <td>6</td>\n",
       "      <td>16</td>\n",
       "    </tr>\n",
       "    <tr>\n",
       "      <th>17</th>\n",
       "      <td>0.286702</td>\n",
       "      <td>6</td>\n",
       "      <td>17</td>\n",
       "    </tr>\n",
       "    <tr>\n",
       "      <th>15</th>\n",
       "      <td>0.286114</td>\n",
       "      <td>6</td>\n",
       "      <td>15</td>\n",
       "    </tr>\n",
       "    <tr>\n",
       "      <th>21</th>\n",
       "      <td>0.285968</td>\n",
       "      <td>6</td>\n",
       "      <td>21</td>\n",
       "    </tr>\n",
       "    <tr>\n",
       "      <th>22</th>\n",
       "      <td>0.285944</td>\n",
       "      <td>6</td>\n",
       "      <td>22</td>\n",
       "    </tr>\n",
       "  </tbody>\n",
       "</table>\n",
       "</div>"
      ],
      "text/plain": [
       "        prob  sides  space\n",
       "6   0.360232      6      6\n",
       "5   0.308771      6      5\n",
       "11  0.293393      6     11\n",
       "12  0.290830      6     12\n",
       "10  0.289288      6     10\n",
       "16  0.287071      6     16\n",
       "17  0.286702      6     17\n",
       "15  0.286114      6     15\n",
       "21  0.285968      6     21\n",
       "22  0.285944      6     22"
      ]
     },
     "execution_count": 8,
     "metadata": {},
     "output_type": "execute_result"
    }
   ],
   "source": [
    "six_sides.head(10)"
   ]
  },
  {
   "cell_type": "code",
   "execution_count": 10,
   "metadata": {
    "collapsed": false
   },
   "outputs": [
    {
     "data": {
      "text/html": [
       "<div>\n",
       "<table border=\"1\" class=\"dataframe\">\n",
       "  <thead>\n",
       "    <tr style=\"text-align: right;\">\n",
       "      <th></th>\n",
       "      <th>prob</th>\n",
       "      <th>sides</th>\n",
       "      <th>space</th>\n",
       "    </tr>\n",
       "  </thead>\n",
       "  <tbody>\n",
       "    <tr>\n",
       "      <th>19</th>\n",
       "      <td>0.284713</td>\n",
       "      <td>6</td>\n",
       "      <td>19</td>\n",
       "    </tr>\n",
       "    <tr>\n",
       "      <th>14</th>\n",
       "      <td>0.283540</td>\n",
       "      <td>6</td>\n",
       "      <td>14</td>\n",
       "    </tr>\n",
       "    <tr>\n",
       "      <th>9</th>\n",
       "      <td>0.280369</td>\n",
       "      <td>6</td>\n",
       "      <td>9</td>\n",
       "    </tr>\n",
       "    <tr>\n",
       "      <th>13</th>\n",
       "      <td>0.279263</td>\n",
       "      <td>6</td>\n",
       "      <td>13</td>\n",
       "    </tr>\n",
       "    <tr>\n",
       "      <th>8</th>\n",
       "      <td>0.268094</td>\n",
       "      <td>6</td>\n",
       "      <td>8</td>\n",
       "    </tr>\n",
       "    <tr>\n",
       "      <th>4</th>\n",
       "      <td>0.264660</td>\n",
       "      <td>6</td>\n",
       "      <td>4</td>\n",
       "    </tr>\n",
       "    <tr>\n",
       "      <th>7</th>\n",
       "      <td>0.253604</td>\n",
       "      <td>6</td>\n",
       "      <td>7</td>\n",
       "    </tr>\n",
       "    <tr>\n",
       "      <th>3</th>\n",
       "      <td>0.226852</td>\n",
       "      <td>6</td>\n",
       "      <td>3</td>\n",
       "    </tr>\n",
       "    <tr>\n",
       "      <th>2</th>\n",
       "      <td>0.194444</td>\n",
       "      <td>6</td>\n",
       "      <td>2</td>\n",
       "    </tr>\n",
       "    <tr>\n",
       "      <th>1</th>\n",
       "      <td>0.166667</td>\n",
       "      <td>6</td>\n",
       "      <td>1</td>\n",
       "    </tr>\n",
       "  </tbody>\n",
       "</table>\n",
       "</div>"
      ],
      "text/plain": [
       "        prob  sides  space\n",
       "19  0.284713      6     19\n",
       "14  0.283540      6     14\n",
       "9   0.280369      6      9\n",
       "13  0.279263      6     13\n",
       "8   0.268094      6      8\n",
       "4   0.264660      6      4\n",
       "7   0.253604      6      7\n",
       "3   0.226852      6      3\n",
       "2   0.194444      6      2\n",
       "1   0.166667      6      1"
      ]
     },
     "execution_count": 10,
     "metadata": {},
     "output_type": "execute_result"
    }
   ],
   "source": [
    "six_sides.tail(10)"
   ]
  },
  {
   "cell_type": "code",
   "execution_count": null,
   "metadata": {
    "collapsed": true
   },
   "outputs": [],
   "source": []
  }
 ],
 "metadata": {
  "kernelspec": {
   "display_name": "Python 3",
   "language": "python",
   "name": "python3"
  },
  "language_info": {
   "codemirror_mode": {
    "name": "ipython",
    "version": 3
   },
   "file_extension": ".py",
   "mimetype": "text/x-python",
   "name": "python",
   "nbconvert_exporter": "python",
   "pygments_lexer": "ipython3",
   "version": "3.4.4"
  }
 },
 "nbformat": 4,
 "nbformat_minor": 0
}
