{
 "cells": [
  {
   "cell_type": "code",
   "execution_count": 1,
   "metadata": {
    "collapsed": true
   },
   "outputs": [],
   "source": [
    "## The Riddler Express\n",
    "riddle = '''First up, this week’s Riddler Express, a coin puzzle from Keith Wynroe.\n",
    "\n",
    "You place 100 coins heads up in a row and number them by position,\n",
    "with the coin all the way on the left No. 1 and the one on the rightmost edge No. 100.\n",
    "Next, for every number N, from 1 to 100, you flip over every coin whose position is a multiple of N.\n",
    "For example, first you’ll flip over all the coins, because every number is a multiple of 1.\n",
    "Then you’ll flip over all the even-numbered coins, because they’re multiples of 2.\n",
    "Then you’ll flip coins No. 3, 6, 9, 12 … And so on.\n",
    "\n",
    "What do the coins look like when you’re done? Specifically, which coins are heads down?'''"
   ]
  },
  {
   "cell_type": "code",
   "execution_count": 2,
   "metadata": {
    "collapsed": false
   },
   "outputs": [
    {
     "name": "stderr",
     "output_type": "stream",
     "text": [
      "D:\\Anaconda3\\lib\\site-packages\\pandas\\computation\\__init__.py:19: UserWarning: The installed version of numexpr 2.4.4 is not supported in pandas and will be not be used\n",
      "\n",
      "  UserWarning)\n",
      ":0: FutureWarning: IPython widgets are experimental and may change in the future.\n"
     ]
    }
   ],
   "source": [
    "import numpy as np\n",
    "import matplotlib.pyplot as plt\n",
    "import seaborn as sns"
   ]
  },
  {
   "cell_type": "code",
   "execution_count": 3,
   "metadata": {
    "collapsed": true
   },
   "outputs": [],
   "source": [
    "# Generate the coins:\n",
    "coins = np.ones((100,))\n",
    "\n",
    "# Coin flip function\n",
    "def flip(coins_array, flip_array):\n",
    "    for j in flip_array:\n",
    "        coins_array[j] = coins_array[j] == False\n",
    "    return coins_array\n"
   ]
  },
  {
   "cell_type": "code",
   "execution_count": 6,
   "metadata": {
    "collapsed": false
   },
   "outputs": [],
   "source": [
    "fig =plt.figure()\n",
    "ax = fig.add_subplot(111)\n",
    "plt.pcolor(np.ones(100,).reshape(10,10),vmin=0,vmax=1)\n",
    "ticks_loc = np.linspace(0.5,9.5,10)\n",
    "xlabels = np.arange(1,11)\n",
    "ylabels = np.arange(0,100,10)\n",
    "plt.xticks(ticks_loc,xlabels)\n",
    "plt.yticks(ticks_loc,ylabels)#('0','20','40','60','80','100'))\n",
    "fig.savefig(r'C:\\Users\\David\\Desktop\\tmp\\coins\\coin_flip_000.png',dpi=fig.dpi)\n",
    "plt.close(fig)"
   ]
  },
  {
   "cell_type": "code",
   "execution_count": 5,
   "metadata": {
    "collapsed": false
   },
   "outputs": [],
   "source": [
    "for val in range(1,101):\n",
    "    flip_arr = np.arange(val-1,100,val)\n",
    "    coins = flip(coins,flip_arr)\n",
    "    fig = plt.figure()\n",
    "    plt.pcolor(coins.reshape(10,10))\n",
    "    plt.xticks(ticks_loc,xlabels)\n",
    "    plt.yticks(ticks_loc,ylabels)\n",
    "    fig.savefig(r'C:\\Users\\David\\Desktop\\tmp\\coins\\coin_flip_' + '{:03d}'.format(val), dpi=fig.dpi)\n",
    "    plt.close(fig)"
   ]
  },
  {
   "cell_type": "code",
   "execution_count": 8,
   "metadata": {
    "collapsed": false
   },
   "outputs": [
    {
     "data": {
      "text/plain": [
       "array([ 0.,  1.,  1.,  0.,  1.,  1.,  1.,  1.,  0.,  1.,  1.,  1.,  1.,\n",
       "        1.,  1.,  0.,  1.,  1.,  1.,  1.,  1.,  1.,  1.,  1.,  0.,  1.,\n",
       "        1.,  1.,  1.,  1.,  1.,  1.,  1.,  1.,  1.,  0.,  1.,  1.,  1.,\n",
       "        1.,  1.,  1.,  1.,  1.,  1.,  1.,  1.,  1.,  0.,  1.,  1.,  1.,\n",
       "        1.,  1.,  1.,  1.,  1.,  1.,  1.,  1.,  1.,  1.,  1.,  0.,  1.,\n",
       "        1.,  1.,  1.,  1.,  1.,  1.,  1.,  1.,  1.,  1.,  1.,  1.,  1.,\n",
       "        1.,  1.,  0.,  1.,  1.,  1.,  1.,  1.,  1.,  1.,  1.,  1.,  1.,\n",
       "        1.,  1.,  1.,  1.,  1.,  1.,  1.,  1.,  0.])"
      ]
     },
     "execution_count": 8,
     "metadata": {},
     "output_type": "execute_result"
    }
   ],
   "source": [
    "coins = np.ones((100,))\n",
    "for val in range(1,101):\n",
    "    flip_arr = np.arange(val-1,100,val)\n",
    "    coins = flip(coins,flip_arr)\n",
    "coins"
   ]
  },
  {
   "cell_type": "code",
   "execution_count": 10,
   "metadata": {
    "collapsed": false
   },
   "outputs": [
    {
     "data": {
      "text/plain": [
       "[1, 4, 9, 16, 25, 36, 49, 64, 81, 100]"
      ]
     },
     "execution_count": 10,
     "metadata": {},
     "output_type": "execute_result"
    }
   ],
   "source": [
    "list_down = []\n",
    "for i,v in enumerate(coins):\n",
    "    if not v:\n",
    "        list_down.append(i+1)\n",
    "list_down"
   ]
  },
  {
   "cell_type": "code",
   "execution_count": 11,
   "metadata": {
    "collapsed": false
   },
   "outputs": [
    {
     "data": {
      "text/plain": [
       "385"
      ]
     },
     "execution_count": 11,
     "metadata": {},
     "output_type": "execute_result"
    }
   ],
   "source": [
    "sum(list_down)"
   ]
  },
  {
   "cell_type": "code",
   "execution_count": null,
   "metadata": {
    "collapsed": true
   },
   "outputs": [],
   "source": []
  }
 ],
 "metadata": {
  "kernelspec": {
   "display_name": "Python 3",
   "language": "python",
   "name": "python3"
  },
  "language_info": {
   "codemirror_mode": {
    "name": "ipython",
    "version": 3
   },
   "file_extension": ".py",
   "mimetype": "text/x-python",
   "name": "python",
   "nbconvert_exporter": "python",
   "pygments_lexer": "ipython3",
   "version": "3.4.4"
  }
 },
 "nbformat": 4,
 "nbformat_minor": 0
}
